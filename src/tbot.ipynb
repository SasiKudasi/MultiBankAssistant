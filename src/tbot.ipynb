{
 "cells": [
  {
   "cell_type": "code",
   "execution_count": 2,
   "id": "cea5c15a",
   "metadata": {},
   "outputs": [],
   "source": [
    "import os\n",
    "import json\n",
    "from dotenv import load_dotenv\n",
    "import telebot\n",
    "from langchain_community.chat_models import GigaChat\n",
    "from langchain_core.messages import HumanMessage, AIMessage\n",
    "from langgraph.checkpoint.memory import InMemorySaver\n",
    "from typing import Dict, Any, Annotated\n",
    "from langchain_core.prompts import ChatPromptTemplate"
   ]
  },
  {
   "cell_type": "code",
   "execution_count": 3,
   "id": "d5d878cb",
   "metadata": {},
   "outputs": [],
   "source": [
    "load_dotenv('config.env')\n",
    "\n",
    "credentials = os.getenv('GIGACHAT_CREDENTIALS')\n",
    "tbot_token = os.getenv('TELEGRAM_TOKEN')"
   ]
  },
  {
   "cell_type": "code",
   "execution_count": 4,
   "id": "298ac456",
   "metadata": {},
   "outputs": [],
   "source": [
    "bot = telebot.TeleBot(tbot_token)"
   ]
  },
  {
   "cell_type": "markdown",
   "id": "2e4b2fca",
   "metadata": {},
   "source": [
    "## Подключение LLM"
   ]
  },
  {
   "cell_type": "code",
   "execution_count": 5,
   "id": "9e766001",
   "metadata": {},
   "outputs": [
    {
     "name": "stderr",
     "output_type": "stream",
     "text": [
      "/tmp/ipykernel_7090/1404833731.py:1: LangChainDeprecationWarning: The class `GigaChat` was deprecated in LangChain 0.3.5 and will be removed in 1.0. An updated version of the class exists in the `langchain-gigachat package and should be used instead. To use it run `pip install -U `langchain-gigachat` and import as `from `langchain_gigachat import GigaChat``.\n",
      "  llm = GigaChat(credentials=credentials, verify_ssl_certs=False)\n"
     ]
    }
   ],
   "source": [
    "llm = GigaChat(credentials=credentials, verify_ssl_certs=False)\n",
    "# # доп\n",
    "# system_prompt = PromptTemplate.from_template('''\n",
    "\n",
    "# ''')"
   ]
  },
  {
   "cell_type": "markdown",
   "id": "a86b9bc9",
   "metadata": {},
   "source": [
    "## Память"
   ]
  },
  {
   "cell_type": "code",
   "execution_count": 6,
   "id": "5d960c95",
   "metadata": {},
   "outputs": [],
   "source": [
    "user_histories = {}\n",
    "\n",
    "MEMORY_FILE = 'user_session.json'"
   ]
  },
  {
   "cell_type": "code",
   "execution_count": 7,
   "id": "7b6c86c4",
   "metadata": {},
   "outputs": [],
   "source": [
    "def load_memory():\n",
    "    \"\"\"Загружаем историю чатов из файла\"\"\"\n",
    "    try:\n",
    "        with open(MEMORY_FILE, \"r\", encoding=\"utf-8\") as f:\n",
    "            data = json.load(f)\n",
    "        \n",
    "        for user_id_str, history in data.items():\n",
    "            user_id = int(user_id_str)\n",
    "            messages = []\n",
    "\n",
    "            if history.get(\"user\"):\n",
    "                messages.append(HumanMessage(content=history[\"user\"]))\n",
    "            if history.get(\"bot\"):\n",
    "                messages.append(AIMessage(content=history[\"bot\"]))\n",
    "            \n",
    "            user_histories[user_id] = messages\n",
    "                \n",
    "    except FileNotFoundError:\n",
    "        print(\"Файл истории не найден, начинаем с чистого листа\")\n",
    "\n",
    "def save_memory():\n",
    "    \"\"\"Сохраняем историю чатов в файл\"\"\"\n",
    "    data = {}\n",
    "    \n",
    "    for user_id, messages in user_histories.items():\n",
    "\n",
    "        last_user_msg = None\n",
    "        last_bot_msg = None\n",
    "        \n",
    "        for msg in reversed(messages):\n",
    "            if isinstance(msg, HumanMessage) and last_user_msg is None:\n",
    "                last_user_msg = msg.content\n",
    "            elif isinstance(msg, AIMessage) and last_bot_msg is None:\n",
    "                last_bot_msg = msg.content\n",
    "            \n",
    "            if last_user_msg and last_bot_msg:\n",
    "                break\n",
    "\n",
    "        if last_user_msg and last_bot_msg:\n",
    "            data[str(user_id)] = {\n",
    "                \"user\": last_user_msg,\n",
    "                \"bot\": last_bot_msg\n",
    "            }\n",
    "\n",
    "    with open(MEMORY_FILE, \"w\", encoding=\"utf-8\") as f:\n",
    "        json.dump(data, f, ensure_ascii=False, indent=2)"
   ]
  },
  {
   "cell_type": "markdown",
   "id": "edf5876d",
   "metadata": {},
   "source": [
    "## Обработчик сообщений"
   ]
  },
  {
   "cell_type": "code",
   "execution_count": 8,
   "id": "f6b7bdb0",
   "metadata": {},
   "outputs": [],
   "source": [
    "@bot.message_handler(content_types=['text'])\n",
    "def handle_text_message(message):\n",
    "    user_id = message.chat.id\n",
    "    text = message.text.strip()\n",
    "\n",
    "    if user_id not in user_histories:\n",
    "        user_histories[user_id] = [\n",
    "            HumanMessage(content=\"SYSTEM: Ты полезный ассистент. Отвечай на вопросы пользователя.\")\n",
    "        ]\n",
    "\n",
    "    user_histories[user_id].append(HumanMessage(content=text))\n",
    "\n",
    "    try:\n",
    "        response = llm.invoke(user_histories[user_id])\n",
    "\n",
    "        ai_message = AIMessage(content=response.content)\n",
    "        user_histories[user_id].append(ai_message)\n",
    "\n",
    "        bot.send_message(user_id, response.content)\n",
    "\n",
    "        save_memory()\n",
    "        \n",
    "    except Exception as e:\n",
    "        print(f\"Ошибка: {e}\")\n",
    "        bot.send_message(user_id, \"Произошла ошибка, попробуйте еще раз\")\n",
    "\n",
    "load_memory()\n",
    "\n",
    "bot.polling(none_stop=True)"
   ]
  },
  {
   "cell_type": "markdown",
   "id": "231cf695",
   "metadata": {},
   "source": [
    "## Код агента с HTTP-клиентом"
   ]
  },
  {
   "cell_type": "code",
   "execution_count": null,
   "id": "ba46f615",
   "metadata": {},
   "outputs": [],
   "source": [
    "import asyncio\n",
    "import os\n",
    "\n",
    "from dotenv import find_dotenv, load_dotenv\n",
    "from langchain_community.chat_models import GigaChat\n",
    "from langgraph.prebuilt import create_react_agent\n",
    "from mcp.client.stdio import stdio_client\n",
    "from langchain_mcp_adapters.client import MultiServerMCPClient\n",
    "from rich import print as rprint\n",
    "\n",
    "load_dotenv(find_dotenv())\n",
    "\n",
    "model = GigaChat(model=\"GigaChat-2-Max\",\n",
    "                streaming=False,\n",
    "                max_tokens=8000,\n",
    "                timeout=600)\n",
    "\n",
    "\n",
    "def _log(ans):\n",
    "    for message in ans['messages']:\n",
    "        rprint(f\"[{type(message).__name__}] {message.content} {getattr(message, 'tool_calls', '')}\")\n",
    "\n",
    "\n",
    "async def main():\n",
    "    async with MultiServerMCPClient(\n",
    "        {\n",
    "            \"math\": {\n",
    "                \"url\": \"http://localhost:8000/sse\",\n",
    "                \"transport\": \"sse\",\n",
    "            }\n",
    "        }\n",
    "    ) as client:\n",
    "        agent = create_react_agent(model, client.get_tools())\n",
    "        \n",
    "        agent_response = await agent.ainvoke({\"messages\": [\n",
    "            {\"role\": \"user\", \"content\": \"Сколько будет (3 + 5) x 12?\"}]})\n",
    "        _log(agent_response)\n",
    "        \n",
    "        agent_response = await agent.ainvoke({\"messages\": [\n",
    "            {\"role\": \"user\", \"content\": \"Найди сколько лет Джону Доу?\"}]})\n",
    "        _log(agent_response)\n",
    "\n",
    "    bot.polling(none_stop=True)\n",
    "\n",
    "# Запуск функции main\n",
    "asyncio.run(main())"
   ]
  }
 ],
 "metadata": {
  "kernelspec": {
   "display_name": "Python 3",
   "language": "python",
   "name": "python3"
  },
  "language_info": {
   "codemirror_mode": {
    "name": "ipython",
    "version": 3
   },
   "file_extension": ".py",
   "mimetype": "text/x-python",
   "name": "python",
   "nbconvert_exporter": "python",
   "pygments_lexer": "ipython3",
   "version": "3.10.12"
  }
 },
 "nbformat": 4,
 "nbformat_minor": 5
}
